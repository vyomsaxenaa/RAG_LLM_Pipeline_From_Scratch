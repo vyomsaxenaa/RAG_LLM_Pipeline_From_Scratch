{
 "cells": [
  {
   "cell_type": "code",
   "execution_count": 1,
   "metadata": {
    "id": "fabFPU9FB1Qy"
   },
   "outputs": [],
   "source": [
    "from collections import Counter\n",
    "import math\n",
    "from transformers import AutoTokenizer, AutoModelForCausalLM\n",
    "import torch"
   ]
  },
  {
   "cell_type": "code",
   "execution_count": 2,
   "metadata": {
    "id": "kDbYS0PlccHV"
   },
   "outputs": [],
   "source": [
    "corpus_of_doc=[\"High school students are in a crucial stage for career exploration\", \"needing guidance to make informed decisions for their future.\", \"This qualitative research analyzes the factors influencing their career choices through interviews, observations, and documentation.\", \"The findings reveal that intelligence and special talents, career interests, personality, and family background and socioeconomic status significantly impact students' decisions.\", \"Internal factors like personal abilities and interests\", \"along with external factors such as family influence and socio-economic conditions\", \"play a critical role in shaping their career paths.\", \"Understanding these factors can help educators and counselors provide better career guidance to students.\"]"
   ]
  },
  {
   "cell_type": "code",
   "execution_count": 3,
   "metadata": {
    "colab": {
     "base_uri": "https://localhost:8080/"
    },
    "id": "4Tf1eOtHpnYf",
    "outputId": "c0965a18-cbe3-41b3-eb97-6b6abff86bbb"
   },
   "outputs": [
    {
     "data": {
      "text/plain": [
       "['High school students are in a crucial stage for career exploration',\n",
       " 'needing guidance to make informed decisions for their future.',\n",
       " 'This qualitative research analyzes the factors influencing their career choices through interviews, observations, and documentation.',\n",
       " \"The findings reveal that intelligence and special talents, career interests, personality, and family background and socioeconomic status significantly impact students' decisions.\",\n",
       " 'Internal factors like personal abilities and interests',\n",
       " 'along with external factors such as family influence and socio-economic conditions',\n",
       " 'play a critical role in shaping their career paths.',\n",
       " 'Understanding these factors can help educators and counselors provide better career guidance to students.']"
      ]
     },
     "execution_count": 3,
     "metadata": {},
     "output_type": "execute_result"
    }
   ],
   "source": [
    "corpus_of_doc"
   ]
  },
  {
   "cell_type": "code",
   "execution_count": 4,
   "metadata": {
    "id": "DNbkH9fdKaEz"
   },
   "outputs": [],
   "source": [
    "user_query=\"I am an Indian and I live in India\""
   ]
  },
  {
   "cell_type": "code",
   "execution_count": 5,
   "metadata": {
    "id": "15Tgy2z1LhYd"
   },
   "outputs": [],
   "source": [
    "document=\"India is a country for the Indians and for everyone\""
   ]
  },
  {
   "cell_type": "markdown",
   "metadata": {
    "id": "GJxak4AKdLC-"
   },
   "source": [
    "## Chunking\n"
   ]
  },
  {
   "cell_type": "code",
   "execution_count": 6,
   "metadata": {
    "id": "VYQgISkDLoOn"
   },
   "outputs": [],
   "source": [
    "#Chunks of query\n",
    "query_tokens=user_query.lower().split(\" \")"
   ]
  },
  {
   "cell_type": "code",
   "execution_count": 7,
   "metadata": {
    "id": "gItEXlDFLxOk"
   },
   "outputs": [],
   "source": [
    "#Chunks of ducument\n",
    "document_tokens=document.lower().split(\" \")"
   ]
  },
  {
   "cell_type": "code",
   "execution_count": 8,
   "metadata": {
    "colab": {
     "base_uri": "https://localhost:8080/"
    },
    "id": "6rS8fdxHOM9W",
    "outputId": "37db3ab9-00e2-4724-c124-17b28320b1d3"
   },
   "outputs": [
    {
     "data": {
      "text/plain": [
       "['india',\n",
       " 'is',\n",
       " 'a',\n",
       " 'country',\n",
       " 'for',\n",
       " 'the',\n",
       " 'indians',\n",
       " 'and',\n",
       " 'for',\n",
       " 'everyone']"
      ]
     },
     "execution_count": 8,
     "metadata": {},
     "output_type": "execute_result"
    }
   ],
   "source": [
    "document_tokens"
   ]
  },
  {
   "cell_type": "markdown",
   "metadata": {
    "id": "ekrtfdPMdWgZ"
   },
   "source": [
    "## Embedding and Similarity Search"
   ]
  },
  {
   "cell_type": "markdown",
   "metadata": {
    "id": "xobIjGu3sW_i"
   },
   "source": [
    "[link text](https://)"
   ]
  },
  {
   "cell_type": "code",
   "execution_count": 9,
   "metadata": {
    "id": "79O6GunmOQvr"
   },
   "outputs": [],
   "source": [
    "#Frequery of word using for Embedding for Query\n",
    "query_counter=Counter(query_tokens)"
   ]
  },
  {
   "cell_type": "code",
   "execution_count": 10,
   "metadata": {
    "colab": {
     "base_uri": "https://localhost:8080/"
    },
    "id": "Mnxviml7PJK1",
    "outputId": "96d87e5f-436f-4046-fbc5-d1b8d914d9a3"
   },
   "outputs": [
    {
     "data": {
      "text/plain": [
       "Counter({'i': 2,\n",
       "         'am': 1,\n",
       "         'an': 1,\n",
       "         'indian': 1,\n",
       "         'and': 1,\n",
       "         'live': 1,\n",
       "         'in': 1,\n",
       "         'india': 1})"
      ]
     },
     "execution_count": 10,
     "metadata": {},
     "output_type": "execute_result"
    }
   ],
   "source": [
    "query_counter"
   ]
  },
  {
   "cell_type": "code",
   "execution_count": 11,
   "metadata": {
    "id": "HrIBspYZOkzB"
   },
   "outputs": [],
   "source": [
    "#Frequery of word using for Embedding for Document\n",
    "document_counter=Counter(document_tokens)"
   ]
  },
  {
   "cell_type": "code",
   "execution_count": 12,
   "metadata": {
    "colab": {
     "base_uri": "https://localhost:8080/"
    },
    "id": "bGcVEbFfPGeO",
    "outputId": "f737af20-4d62-4efd-de2f-c7c138c36a23"
   },
   "outputs": [
    {
     "data": {
      "text/plain": [
       "Counter({'for': 2,\n",
       "         'india': 1,\n",
       "         'is': 1,\n",
       "         'a': 1,\n",
       "         'country': 1,\n",
       "         'the': 1,\n",
       "         'indians': 1,\n",
       "         'and': 1,\n",
       "         'everyone': 1})"
      ]
     },
     "execution_count": 12,
     "metadata": {},
     "output_type": "execute_result"
    }
   ],
   "source": [
    "document_counter"
   ]
  },
  {
   "cell_type": "code",
   "execution_count": 13,
   "metadata": {
    "id": "UMs8LRnMPNRs"
   },
   "outputs": [],
   "source": [
    "#Sentence Vectors(NOt very good result with sentence vector)\n",
    "lst=[]\n",
    "for token in query_counter.keys():\n",
    "  lst.append(query_counter[token])"
   ]
  },
  {
   "cell_type": "code",
   "execution_count": 14,
   "metadata": {
    "colab": {
     "base_uri": "https://localhost:8080/"
    },
    "id": "FtxYa8wSQOOo",
    "outputId": "ce173494-7460-4ec2-e30b-1df4d80f6208"
   },
   "outputs": [
    {
     "data": {
      "text/plain": [
       "[2, 1, 1, 1, 1, 1, 1, 1]"
      ]
     },
     "execution_count": 14,
     "metadata": {},
     "output_type": "execute_result"
    }
   ],
   "source": [
    "lst"
   ]
  },
  {
   "cell_type": "code",
   "execution_count": 15,
   "metadata": {
    "colab": {
     "base_uri": "https://localhost:8080/"
    },
    "id": "7RgLjHs6ZwXp",
    "outputId": "354968ff-21c6-4025-eaee-eb96b47085b7"
   },
   "outputs": [
    {
     "name": "stdout",
     "output_type": "stream",
     "text": [
      "india\n",
      "and\n"
     ]
    }
   ],
   "source": [
    "for tokens in query_counter.keys() & document_counter.keys():\n",
    "  print(tokens)"
   ]
  },
  {
   "cell_type": "code",
   "execution_count": 16,
   "metadata": {
    "id": "NOm-cw2kQwqH"
   },
   "outputs": [],
   "source": [
    "#Dot product for Similarity Search\n",
    "#Words Embedding\n",
    "mylist=[]\n",
    "for token in query_counter.keys() & document_counter.keys():\n",
    "  mylist.append(query_counter[token]*document_counter[token])\n"
   ]
  },
  {
   "cell_type": "code",
   "execution_count": 17,
   "metadata": {
    "id": "JSCc5Jhkc9bg"
   },
   "outputs": [],
   "source": [
    "query_magnitude=math.sqrt(sum(query_counter[token]**2 for token in query_counter))"
   ]
  },
  {
   "cell_type": "code",
   "execution_count": 18,
   "metadata": {
    "colab": {
     "base_uri": "https://localhost:8080/"
    },
    "id": "WkiwU1moSAB1",
    "outputId": "97915818-d181-413f-aaea-8a7ef6ae8c7d"
   },
   "outputs": [
    {
     "data": {
      "text/plain": [
       "[1, 1]"
      ]
     },
     "execution_count": 18,
     "metadata": {},
     "output_type": "execute_result"
    }
   ],
   "source": [
    "mylist"
   ]
  },
  {
   "cell_type": "code",
   "execution_count": 19,
   "metadata": {
    "id": "ZviNZbKcw0gq"
   },
   "outputs": [],
   "source": [
    "dot_product=sum(mylist)"
   ]
  },
  {
   "cell_type": "code",
   "execution_count": 20,
   "metadata": {
    "colab": {
     "base_uri": "https://localhost:8080/"
    },
    "id": "fFF8JX8hu3Bg",
    "outputId": "da2760aa-f58c-49e7-b600-cf07f9593334"
   },
   "outputs": [
    {
     "data": {
      "text/plain": [
       "3.3166247903554"
      ]
     },
     "execution_count": 20,
     "metadata": {},
     "output_type": "execute_result"
    }
   ],
   "source": [
    "query_magnitude\n"
   ]
  },
  {
   "cell_type": "code",
   "execution_count": 21,
   "metadata": {
    "id": "MrBpCYRSu4iu"
   },
   "outputs": [],
   "source": [
    "document_magnitude=math.sqrt(sum(document_counter[token]**2 for token in document_counter))"
   ]
  },
  {
   "cell_type": "code",
   "execution_count": 22,
   "metadata": {
    "colab": {
     "base_uri": "https://localhost:8080/"
    },
    "id": "-TKmMvUYvCvi",
    "outputId": "4d39c7c1-a67b-437f-a27b-c5d2900954e0"
   },
   "outputs": [
    {
     "data": {
      "text/plain": [
       "3.4641016151377544"
      ]
     },
     "execution_count": 22,
     "metadata": {},
     "output_type": "execute_result"
    }
   ],
   "source": [
    "document_magnitude"
   ]
  },
  {
   "cell_type": "code",
   "execution_count": 23,
   "metadata": {
    "id": "6RBRS_bSv2gh"
   },
   "outputs": [],
   "source": [
    "#Formula for Cosine similarity search\n",
    "similarity=(dot_product)/(query_magnitude*document_magnitude)"
   ]
  },
  {
   "cell_type": "code",
   "execution_count": 24,
   "metadata": {
    "colab": {
     "base_uri": "https://localhost:8080/"
    },
    "id": "TAiB18zWyCl1",
    "outputId": "9b29b9f6-2343-4dfc-f428-0fb9846fa5b7"
   },
   "outputs": [
    {
     "data": {
      "text/plain": [
       "0.17407765595569785"
      ]
     },
     "execution_count": 24,
     "metadata": {},
     "output_type": "execute_result"
    }
   ],
   "source": [
    "similarity"
   ]
  },
  {
   "cell_type": "code",
   "execution_count": 25,
   "metadata": {
    "id": "fyBQzSFmyE5n"
   },
   "outputs": [],
   "source": [
    "def cosine_similarity2(query,document):\n",
    "  #Tokenize and convert to lowercase\n",
    "  query_tokens = query.lower().split(\" \")\n",
    "  document_tokens = document.lower().split(\" \")\n",
    "\n",
    "  # Create Counters for query and document\n",
    "  query_counter = Counter(query_tokens)\n",
    "  document_counter = Counter(document_tokens)\n",
    "\n",
    "  # Calculate dot product\n",
    "  dot_product = sum(query_counter[token] * document_counter[token] for token in query_counter.keys() & document_counter.keys())\n",
    "\n",
    "  # Calculate magnitudes\n",
    "  query_magnitude = math.sqrt(sum(query_counter[token] ** 2 for token in query_counter))\n",
    "  document_magnitude = math.sqrt(sum(document_counter[token] ** 2 for token in document_counter))\n",
    "\n",
    "  # Calculate cosine similarity\n",
    "  similarity = dot_product / (query_magnitude * document_magnitude) if query_magnitude * document_magnitude != 0 else 0\n",
    "\n",
    "  return similarity"
   ]
  },
  {
   "cell_type": "code",
   "execution_count": 26,
   "metadata": {
    "colab": {
     "base_uri": "https://localhost:8080/"
    },
    "id": "W4JmkNL3yumA",
    "outputId": "804338ee-9d28-4c33-97a1-024ce4b08fba"
   },
   "outputs": [
    {
     "data": {
      "text/plain": [
       "0.17407765595569785"
      ]
     },
     "execution_count": 26,
     "metadata": {},
     "output_type": "execute_result"
    }
   ],
   "source": [
    "cosine_similarity2(user_query,document)"
   ]
  },
  {
   "cell_type": "code",
   "execution_count": 27,
   "metadata": {
    "id": "79THYD1Sy0RM"
   },
   "outputs": [],
   "source": [
    "def return_response(query,corpus):\n",
    "  similarities=[]\n",
    "  for doc in corpus:\n",
    "    similarity=cosine_similarity2(query,doc)\n",
    "    similarities.append(similarity)\n",
    "\n",
    "  return corpus_of_doc[similarities.index(max(similarities))]\n"
   ]
  },
  {
   "cell_type": "code",
   "execution_count": 28,
   "metadata": {
    "id": "KX0M4kfkxC8y"
   },
   "outputs": [],
   "source": [
    "user_query=\"I am a high School Student\"\n"
   ]
  },
  {
   "cell_type": "code",
   "execution_count": 29,
   "metadata": {
    "id": "JPvIjL52xg3B"
   },
   "outputs": [],
   "source": [
    "relevent_document=return_response(user_query,corpus_of_doc)"
   ]
  },
  {
   "cell_type": "code",
   "execution_count": 30,
   "metadata": {},
   "outputs": [],
   "source": [
    "# augument this response by using llama3 model\n"
   ]
  },
  {
   "cell_type": "code",
   "execution_count": 31,
   "metadata": {
    "id": "a0X1uCvMSBgz"
   },
   "outputs": [],
   "source": [
    "import requests\n",
    "import json\n",
    "full_response = []"
   ]
  },
  {
   "cell_type": "code",
   "execution_count": 32,
   "metadata": {
    "id": "70NhQIrO18YL"
   },
   "outputs": [
    {
     "name": "stdout",
     "output_type": "stream",
     "text": [
      "Explore career options through internships or mentorship programs.\n"
     ]
    }
   ],
   "source": [
    "full_response = []\n",
    "prompt = \"\"\"\n",
    "You are a bot that makes recommendations for activities. You answer in very short sentences and do not include extra information.\n",
    "This is the recommended activity: {relevant_document}\n",
    "The user input is: {user_input}\n",
    "Compile a recommendation to the user based on the recommended activity and the user input.\n",
    "\"\"\"\n",
    "\n",
    "url = 'http://localhost:11434/api/generate'\n",
    "\n",
    "\n",
    "data = {\n",
    "    \"model\": \"llama3\",\n",
    "    \"prompt\": prompt.format(user_input=user_query, relevant_document=relevent_document)\n",
    "}\n",
    "\n",
    "headers = {'Content-Type': 'application/json'}\n",
    "\n",
    "response = requests.post(url, data=json.dumps(data), headers=headers, stream=True)\n",
    "\n",
    "\n",
    "try:\n",
    "    for line in response.iter_lines():\n",
    "  # filter out keep-alive new lines\n",
    "      if line:\n",
    "        decoded_line = json.loads(line.decode('utf-8'))\n",
    "        #print(decoded_line['response'])  # uncomment to results, token by token\n",
    "        full_response.append(decoded_line['response'])\n",
    "finally:\n",
    "  response.close()\n",
    "\n",
    "print(''.join(full_response))"
   ]
  },
  {
   "cell_type": "code",
   "execution_count": null,
   "metadata": {
    "id": "uFvGuQqD3vLP"
   },
   "outputs": [],
   "source": []
  }
 ],
 "metadata": {
  "accelerator": "GPU",
  "colab": {
   "gpuType": "T4",
   "provenance": []
  },
  "kernelspec": {
   "display_name": "Python 3 (ipykernel)",
   "language": "python",
   "name": "python3"
  },
  "language_info": {
   "codemirror_mode": {
    "name": "ipython",
    "version": 3
   },
   "file_extension": ".py",
   "mimetype": "text/x-python",
   "name": "python",
   "nbconvert_exporter": "python",
   "pygments_lexer": "ipython3",
   "version": "3.11.4"
  }
 },
 "nbformat": 4,
 "nbformat_minor": 4
}
